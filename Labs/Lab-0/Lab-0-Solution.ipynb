{
 "cells": [
  {
   "cell_type": "markdown",
   "metadata": {},
   "source": [
    "# Applications of Deep Learning to High Energy Physics\n",
    "## Lab 0- Getting Started\n",
    "\n",
    "\n",
    "### Introduction- Jupyter Basics\n",
    "\n",
    "If you are seeing this page, you have successfully connected to our python server via ssh tunnel, logged in, and navigated to this notebook. Jupyter notebooks consist of cells that can hold text or code (usually python). This text that you are reading, was written into a text cell as simple text \"coding\" language known as mark-down. When a cell is run (either automatically at start of the notebook or manually by pressing shift-enter), the mark-down text is interpreted into nice looking text. Running a code cell will execute the code in that cell and give you the results. If you make a mistake, you can usually simply change the cell and re-run. But be aware that since you ran the mistaken cell already, whatever code that was properly executed before your mistake/error, was already executed and has therefore changed your current python environment accordingly. In some cases this situation will be problematic, and you will need to rerun the notebook from the start by pressing the \"reload\" botton (next to the \"stop\" button) above.\n",
    "\n",
    "### Python Overview\n",
    "\n",
    "Our first few labs are intended to try to force everyone to learn sufficient python, numpy, and HDF5 to perform some basic tasks. In this very first lab, we will introduce the fundamentals of python language. The following notebooks were copied from [github pages of Rajath Kumar](https://github.com/rajathkmp/Python-Lectures) from Indian Institute of Science, [License](https://creativecommons.org/licenses/by/3.0/). They provide a quick overview of basic python syntax. \n",
    "\n",
    "Carefully read through the following notebooks and familiarize yourself with python. Run the code cells (by pressing shift-enter when in the cell) in the notebooks and make sure you understand the output. \n",
    "\n",
    "   * [Variables, Operators, ...](Python-Lectures/01.ipynb)\n",
    "   * [Print Statements](Python-Lectures/02.ipynb)\n",
    "   * [Data Structures](Python-Lectures/03.ipynb)\n",
    "   * [Strings](Python-Lectures/04.ipynb)\n",
    "   * [Control Flow](Python-Lectures/05.ipynb)\n",
    "   * [Functions](Python-Lectures/06.ipynb)\n",
    "   * [Classes](Python-Lectures/07.ipynb)\n"
   ]
  },
  {
   "cell_type": "markdown",
   "metadata": {
    "collapsed": true
   },
   "source": [
    "### Reading Code\n",
    "\n",
    "Reading and understanding code written by others is an important part of learning to code yourself. Carefully read through these [python exercises](http://www.practicepython.org) and their solutions. Then as practice, pick 3 exercises and solve them in this notebook below. You will be asked next week to solve an exercise in class. \n",
    "\n"
   ]
  },
  {
   "cell_type": "markdown",
   "metadata": {},
   "source": [
    "### 1. Exercise (fill in number here) "
   ]
  },
  {
   "cell_type": "code",
   "execution_count": 2,
   "metadata": {},
   "outputs": [
    {
     "name": "stdout",
     "output_type": "stream",
     "text": [
      "******Welcome to my guessing game*******\n",
      "Pick a number between 0 and 100 and I will guess what it is\n",
      "Is the number in your mind 50? or is it too high/low (h=high,l=low,c=correct) l\n",
      "Is the number in your mind 75? or is it too high/low (h=high,l=low,c=correct) h\n",
      "Is the number in your mind 62? or is it too high/low (h=high,l=low,c=correct) l\n",
      "Is the number in your mind 68? or is it too high/low (h=high,l=low,c=correct) l\n",
      "Is the number in your mind 71? or is it too high/low (h=high,l=low,c=correct) c\n",
      "Yay! Your number is: 71. And I guessed it after 5 tries\n"
     ]
    }
   ],
   "source": [
    "# Exercise #25, Guessing Game Two\n",
    "\"\"\"\n",
    "In a previous exercise, we've written a program that \"knows\" a number and asks a user to guess it.\n",
    "\n",
    "This time, we're going to do exactly the opposite. You, the user, will have in your head a number between 0 and 100. The program will guess a number, and you, the user, will say whether it is too high, too low, or your number.\n",
    "\n",
    "At the end of this exchange, your program should print out how many guesses it took to get your number.\n",
    "\n",
    "As the writer of this program, you will have to choose how your program will strategically guess. A naive strategy can be to simply start the guessing at 1, and keep going (2, 3, 4, etc.) until you hit the number. But that's not an optimal guessing strategy. An alternate strategy might be to guess 50 (right in the middle of the range), and then increase / decrease by 1 as needed. After you've written the program, try to find the optimal strategy! (We'll talk about what is the optimal one next week with the solution.)\n",
    "\"\"\"\n",
    "\n",
    "lowVal = 0\n",
    "highVal = 100\n",
    "ctr = 1\n",
    "print \"Welcome to my guessing game\".center(40, \"*\")\n",
    "print \"Pick a number between 0 and 100 and I will guess what it is\"\n",
    "while True:\n",
    "    myGuess = (lowVal + highVal)/2\n",
    "    num = raw_input(\"Is the number in your mind \" + str(myGuess) + \"? or is it too high/low (h=high,l=low,c=correct) \")\n",
    "    if \"c\" in num:\n",
    "        print \"Yay! Your number is: \" + str(myGuess) + \". And I guessed it after \" + str(ctr) + \" tries\"\n",
    "        break\n",
    "    elif \"l\" in num:\n",
    "        lowVal = myGuess\n",
    "        ctr += 1\n",
    "    elif \"h\" in num:\n",
    "        highVal = myGuess\n",
    "        ctr += 1\n",
    "    else:\n",
    "        print \"I'm sorry, please enter a correct choice\""
   ]
  },
  {
   "cell_type": "markdown",
   "metadata": {},
   "source": [
    "### 2. Exercise (fill in number here) "
   ]
  },
  {
   "cell_type": "code",
   "execution_count": 3,
   "metadata": {},
   "outputs": [
    {
     "name": "stdout",
     "output_type": "stream",
     "text": [
      "Hello! In this game of cow bull, I will generate a number and you have to guess what it is. For every digit in your number corresponding to the correct place in my number, you get a cow. For every digit in your number that is in my number but does not correspond to the correct place, you get a bull. You win after you get 4 cows!\n",
      "Enter a four digit number: 1111\n",
      "0 cows, 0 bulls\n",
      "Enter a four digit number: 2222\n",
      "0 cows, 0 bulls\n",
      "Enter a four digit number: 3333\n",
      "1 cows, 3 bulls\n",
      "Enter a four digit number: 3111\n",
      "0 cows, 1 bulls\n",
      "Enter a four digit number: 1311\n",
      "0 cows, 1 bulls\n",
      "Enter a four digit number: 1131\n",
      "0 cows, 1 bulls\n",
      "Enter a four digit number: 4443\n",
      "1 cows, 0 bulls\n",
      "Enter a four digit number: 5553\n",
      "2 cows, 2 bulls\n",
      "Enter a four digit number: 1553\n",
      "1 cows, 2 bulls\n",
      "Enter a four digit number: 5003\n",
      "2 cows, 0 bulls\n",
      "Enter a four digit number: 5663\n",
      "2 cows, 0 bulls\n",
      "Enter a four digit number: 5773\n",
      "2 cows, 0 bulls\n",
      "Enter a four digit number: 5883\n",
      "3 cows, 1 bulls\n",
      "Enter a four digit number: 3893\n",
      "3 cows, 1 bulls\n",
      "Enter a four digit number: 3983\n",
      "1 cows, 3 bulls\n",
      "Enter a four digit number: 5983\n",
      "2 cows, 2 bulls\n",
      "Enter a four digit number: 5883\n",
      "3 cows, 1 bulls\n",
      "Enter a four digit number: 5833\n",
      "3 cows, 1 bulls\n",
      "Enter a four digit number: 5843\n",
      "3 cows, 0 bulls\n",
      "Enter a four digit number: 5853\n",
      "3 cows, 1 bulls\n",
      "Enter a four digit number: 5863\n",
      "3 cows, 0 bulls\n",
      "Enter a four digit number: 5873\n",
      "3 cows, 0 bulls\n",
      "Enter a four digit number: 5883\n",
      "3 cows, 1 bulls\n",
      "Enter a four digit number: 5893\n",
      "You won after 24 tries. The number was: 5893\n"
     ]
    }
   ],
   "source": [
    "# Exercise #18, Cows and Bulls\n",
    "\n",
    "\"\"\"\n",
    "Create a program that will play the \"cows and bulls\" game with the user. The game works like this:\n",
    "\n",
    "Randomly generate a 4-digit number. Ask the user to guess a 4-digit number. For every digit that the user guessed correctly in the correct place, they have a \"cow\". For every digit the user guessed correctly in the wrong place is a \"bull.\" Every time the user makes a guess, tell them how many \"cows\" and \"bulls\" they have. Once the user guesses the correct number, the game is over. Keep track of the number of guesses the user makes throughout teh game and tell the user at the end.\n",
    "\n",
    "Say the number generated by the computer is 1038. An example interaction could look like this:\n",
    "\n",
    "  Welcome to the Cows and Bulls Game! \n",
    "  Enter a number: \n",
    "  >>> 1234\n",
    "  2 cows, 0 bulls\n",
    "  >>> 1256\n",
    "  1 cow, 1 bull\n",
    "  ...\n",
    "Until the user guesses the number.\n",
    "\"\"\"\n",
    "import random\n",
    "\n",
    "num = str(random.randint(1000, 9999))\n",
    "\n",
    "print \"Hello! In this game of cow bull, I will generate a number and you have to guess what it is. For every digit in your number corresponding to the correct place in my number, you get a cow. For every digit in your number that is in my number but does not correspond to the correct place, you get a bull. You win after you get 4 cows!\"\n",
    "\n",
    "ctr = 1\n",
    "while True:\n",
    "    cow = 0\n",
    "    bull = 0\n",
    "    guess = raw_input(\"Enter a four digit number: \")\n",
    "    if (len(guess) != 4):\n",
    "        print \"Please enter a *four* digit number\"\n",
    "        continue\n",
    "    for i in range(0, 4):\n",
    "        if guess[i] == num[i]:\n",
    "            cow += 1\n",
    "        elif guess[i] in num:\n",
    "            bull += 1\n",
    "\n",
    "    if cow == 4:\n",
    "        print \"You won after \" + str(ctr) + \" tries. The number was: \" + str(num)\n",
    "        break\n",
    "\n",
    "    print str(cow) + \" cows, \" + str(bull) + \" bulls\"\n",
    "\n",
    "    ctr += 1\n"
   ]
  },
  {
   "cell_type": "markdown",
   "metadata": {},
   "source": [
    "### 3. Exercise (fill in number here) "
   ]
  },
  {
   "cell_type": "code",
   "execution_count": 1,
   "metadata": {},
   "outputs": [
    {
     "name": "stdout",
     "output_type": "stream",
     "text": [
      "Pick the weapon of your choice (rock/paper/scissors): rock\n",
      "Your choice is: rock\n",
      "The computer picked... \n",
      "paper\n",
      "You lose because paper beats rock\n",
      "Would you like to play the game again? scissors\n",
      "Thanks, hope you enjoyed it!\n"
     ]
    }
   ],
   "source": [
    "\"\"\"\n",
    "Make a two-player Rock-Paper-Scissors game. (Hint: Ask for player plays (using input), compare them, print out a message of congratulations to the winner, and ask if the players want to start a new game)\n",
    "\n",
    "Remember the rules:\n",
    "\n",
    "Rock beats scissors\n",
    "Scissors beats paper\n",
    "Paper beats rock\n",
    "\"\"\"\n",
    "import random, time\n",
    "\n",
    "choices = {0:\"rock\", 1:\"scissors\", 2:\"paper\"}\n",
    "\n",
    "while True:\n",
    "    usrHand = raw_input(\"Pick the weapon of your choice (rock/paper/scissors): \").lower()\n",
    "    while True:\n",
    "        if \"r\" == usrHand[0]:\n",
    "            usrHand = 0; break\n",
    "        elif \"s\" == usrHand[0]:\n",
    "            usrHand = 1; break\n",
    "        elif \"p\" == usrHand[0]:\n",
    "            usrHand = 2; break\n",
    "        else:\n",
    "            print \"Sorry, I didn't understand you, please enter your choice again\"\n",
    "            usrHand = raw_input(\"Pick the weapon of your choice (rock/paper/scissors): \").lower()\n",
    "\n",
    "    print \"Your choice is: \" + choices[usrHand]\n",
    "\n",
    "    cmpHand = random.randint(0, 2)\n",
    "    print \"The computer picked... \"\n",
    "    time.sleep(2)\n",
    "    print choices[cmpHand]\n",
    "    time.sleep(1)\n",
    "    if usrHand == 0:\n",
    "        if cmpHand == 2: \n",
    "            cmpWon = True\n",
    "        else: \n",
    "            cmpWon = False\n",
    "    elif usrHand == 1:\n",
    "        if cmpHand == 0:\n",
    "            cmpWon = True\n",
    "        else:\n",
    "            cmpWon = False\n",
    "    else:\n",
    "        if cmpHand == 1:\n",
    "            cmpWon = True\n",
    "        else:\n",
    "            cmpWon = False\n",
    "\n",
    "    if usrHand == cmpHand:\n",
    "        print \"No one won!\"\n",
    "    elif not cmpWon:\n",
    "        print \"Congratulations! You win because \" + choices[usrHand] + \" beats \" + choices[cmpHand]\n",
    "    else:\n",
    "        print \"You lose because \" + choices[cmpHand] + \" beats \" + choices[usrHand]\n",
    "\n",
    "    again = raw_input(\"Would you like to play the game again? \").lower()\n",
    "    if \"y\" in again:\n",
    "        continue\n",
    "    else:\n",
    "        print \"Thanks, hope you enjoyed it!\"\n",
    "        break"
   ]
  },
  {
   "cell_type": "markdown",
   "metadata": {},
   "source": [
    "### Test Yourself\n",
    "\n",
    "Write a function that takes in a string and determines the number of unique words (ignoring capitalization and punctuation) and returns an dictionary where the key of each entry is the word and the value is the number of times the word appears in the string. Demonstrate that your function works by applying it to the introduction paragraph above."
   ]
  },
  {
   "cell_type": "code",
   "execution_count": 4,
   "metadata": {},
   "outputs": [
    {
     "name": "stdout",
     "output_type": "stream",
     "text": [
      "{'code': 4, 'text': 6, 'results': 1, 'mistaken': 1, 'interpreted': 1, 'already': 2, 'before': 1, 'cell': 6, 'notebooks': 1, 'logged': 1, 'environment': 1, 'to': 4, 'has': 1, 'python': 3, 'stop': 1, 'ssh': 1, 'execute': 1, 'button': 1, 'server': 1, 'tunnel': 1, 'either': 1, 'page': 1, 'successfully': 1, 'some': 1, 'are': 2, 'our': 1, 'will': 3, 'botton': 1, \"'\": 1, 'reload': 1, 'since': 1, 'navigated': 1, 'looking': 1, 're': 1, 'written': 1, 'above': 1, 'current': 1, 'reading': 1, 'be': 2, 'run': 2, 'rerun': 1, 'by': 2, 'change': 1, 'language': 1, 'of': 2, 'changed': 1, 'usually': 2, 'or': 2, 'automatically': 1, 'seeing': 1, 'via': 1, 'simple': 1, 'problematic': 1, 'into': 2, 'coding': 1, 'whatever': 1, 'down': 2, 'simply': 1, 'next': 1, 'your': 2, 'from': 1, 'give': 1, 'mark': 2, 'start': 2, 'accordingly': 1, 'therefore': 1, 'was': 3, 'that': 5, 'but': 1, 'aware': 1, 'properly': 1, 'known': 1, 'cases': 1, 'hold': 1, 'consist': 1, 'this': 4, 'cells': 1, 'executed': 2, 'can': 2, 'error': 1, 'situation': 1, 'mistake': 2, 'and': 5, 'manually': 1, 'ran': 1, 'is': 2, 'as': 2, 'pressing': 2, 'at': 1, 'have': 1, 'in': 3, 'need': 1, 'shift': 1, 'if': 2, 'make': 1, 'when': 1, 'you': 8, 'nice': 1, 'running': 1, 'notebook': 3, 'connected': 1, 'a': 4, 'jupyter': 1, 'enter': 1, 'the': 10}\n"
     ]
    }
   ],
   "source": [
    "# Type your solution here.\n",
    "def counting(line):\n",
    "    result = {}\n",
    "    line = line.lower()\n",
    "    chars = ['(', ')', ',', '.', '\"', '/', '-']\n",
    "    for char in chars:\n",
    "        line = line.replace(char, \" \")\n",
    "\n",
    "    for word in line.split():\n",
    "        if word in result.keys():\n",
    "            result[word] += 1\n",
    "        else:\n",
    "            result[word] = 1\n",
    "    \n",
    "    return result\n",
    "\n",
    "testPara = \"\"\"If you are seeing this page, you have successfully connected to our python server via ssh tunnel, logged in, and navigated to this notebook. Jupyter notebooks consist of cells that can hold text or code (usually python). This text that you are reading, was written into a text cell as simple text \"coding\" language known as mark-down. When a cell is run (either automatically at start of the notebook or manually by pressing shift-enter), the mark-down text is interpreted into nice looking text. Running a code cell will execute the code in that cell and give you the results. If you make a mistake, you can usually simply change the cell and re-run. But be aware that since you ran the mistaken cell already, whatever code that was properly executed before your mistake/error, was already executed and has therefore changed your current python environment accordingly. In some cases this situation will be problematic, and you will need to rerun the notebook from the start by pressing the \"reload\" botton (next to the \"stop\" button) above.'\"\"\"\n",
    "\n",
    "print counting(testPara)"
   ]
  },
  {
   "cell_type": "code",
   "execution_count": 2,
   "metadata": {},
   "outputs": [
    {
     "name": "stdout",
     "output_type": "stream",
     "text": [
      "The number, 2 is prime\n",
      "The number, 4 is composite\n",
      "The number, 7 is prime\n"
     ]
    }
   ],
   "source": [
    "def prime_or_not(n):\n",
    "    div = 0\n",
    "    for i in range(1,n+1):\n",
    "        if n%i==0:\n",
    "            div += 1\n",
    "    if div > 2:\n",
    "        print \"The number, \" + str(n) + \" is composite\"\n",
    "    else:\n",
    "        print \"The number, \" + str(n) + \" is prime\"\n",
    "    \n",
    "prime_or_not(2)\n",
    "prime_or_not(4)\n",
    "prime_or_not(7)"
   ]
  },
  {
   "cell_type": "code",
   "execution_count": null,
   "metadata": {
    "collapsed": true
   },
   "outputs": [],
   "source": []
  }
 ],
 "metadata": {
  "kernelspec": {
   "display_name": "Python 2",
   "language": "python",
   "name": "python2"
  },
  "language_info": {
   "codemirror_mode": {
    "name": "ipython",
    "version": 2
   },
   "file_extension": ".py",
   "mimetype": "text/x-python",
   "name": "python",
   "nbconvert_exporter": "python",
   "pygments_lexer": "ipython2",
   "version": "2.7.12"
  }
 },
 "nbformat": 4,
 "nbformat_minor": 2
}
