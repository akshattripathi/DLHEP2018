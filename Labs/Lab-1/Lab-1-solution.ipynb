{
 "cells": [
  {
   "cell_type": "markdown",
   "metadata": {},
   "source": [
    "## Lab 1- Python\n",
    "\n",
    "Let start with generating some fake random data. You can get a random number between 0 and 1 using the python random module as follow:"
   ]
  },
  {
   "cell_type": "code",
   "execution_count": 33,
   "metadata": {},
   "outputs": [
    {
     "name": "stdout",
     "output_type": "stream",
     "text": [
      "The Value of x is 0.611103094784\n"
     ]
    }
   ],
   "source": [
    "import random\n",
    "import matplotlib.pyplot as plt\n",
    "x=random.random()\n",
    "print \"The Value of x is\", x"
   ]
  },
  {
   "cell_type": "markdown",
   "metadata": {},
   "source": [
    "### Exercise 1.1\n",
    "Using random, write a function GenerateData(N, mymin, mymax), that returns a python list containing N random numbers between specified minimum and maximum value. Note that you may want to quickly work out on paper how to turn numbers between 0 and 1 to between other values. "
   ]
  },
  {
   "cell_type": "code",
   "execution_count": 34,
   "metadata": {},
   "outputs": [
    {
     "name": "stdout",
     "output_type": "stream",
     "text": [
      "Data Type: <type 'list'>\n",
      "Data Length: 1000\n",
      "Type of Data Contents: <type 'float'>\n",
      "Data Minimum: -9.99464921514\n",
      "Data Maximum: 9.9485404875\n"
     ]
    }
   ],
   "source": [
    "# Skeleton\n",
    "def GenerateData(N,min,max):\n",
    "    out = []\n",
    "    ### BEGIN SOLUTION\n",
    "    for i in range(0, N):\n",
    "        x = random.random()\n",
    "        out.append(((x * (max - min)) + min))\n",
    "    ### END SOLUTION\n",
    "    return out\n",
    "\n",
    "minRange = -10\n",
    "maxRange = 10\n",
    "Data=GenerateData(1000,minRange,maxRange)\n",
    "print \"Data Type:\", type(Data)\n",
    "print \"Data Length:\", len(Data)\n",
    "if len(Data)>0: \n",
    "    print \"Type of Data Contents:\", type(Data[0])\n",
    "    print \"Data Minimum:\", min(Data)\n",
    "    print \"Data Maximum:\", max(Data)"
   ]
  },
  {
   "cell_type": "markdown",
   "metadata": {},
   "source": [
    "### Exercise 1.2\n",
    "\n",
    "Write a function that computes the mean of values in a list."
   ]
  },
  {
   "cell_type": "code",
   "execution_count": 35,
   "metadata": {},
   "outputs": [
    {
     "name": "stdout",
     "output_type": "stream",
     "text": [
      "Mean of Data: -0.100478999267\n"
     ]
    }
   ],
   "source": [
    "# Skeleton\n",
    "def mean(Data):\n",
    "    m=0\n",
    "    \n",
    "    ### BEGIN SOLUTION\n",
    "\n",
    "    for i in Data:\n",
    "        m += i\n",
    "    m = (m)/(len(Data))\n",
    "    \n",
    "    ### END SOLUTION\n",
    "    \n",
    "    return m\n",
    "\n",
    "print \"Mean of Data:\", mean(Data)"
   ]
  },
  {
   "cell_type": "markdown",
   "metadata": {},
   "source": [
    "### Exercise 1.3\n",
    "\n",
    "Write a function the applies a booling function (that returns true/false) to every element in data, and return a list of indices of elements where the result was true. Use this function to find the indices of positive entries. "
   ]
  },
  {
   "cell_type": "code",
   "execution_count": 36,
   "metadata": {
    "collapsed": true
   },
   "outputs": [],
   "source": [
    "def where(mylist,myfunc):\n",
    "    out= []\n",
    "    \n",
    "    ### BEGIN SOLUTION\n",
    "\n",
    "    for i in range(0, len(mylist)):\n",
    "        if myfunc(mylist[i]):\n",
    "            out.append(i)\n",
    "    \n",
    "    ### END SOLUTION\n",
    "    \n",
    "    return out"
   ]
  },
  {
   "cell_type": "markdown",
   "metadata": {},
   "source": [
    "### Exercise 1.4\n",
    "\n",
    "The inrange(mymin,mymax) function below returns a function that tests if it's input is between the specified values. Use this function, in conjunction to your solution to 1.3, to demonstrate that your data is \"flat\". Hint: pick several sub-ranges and show that the number of data point divided by the size of the range is roughly constant. "
   ]
  },
  {
   "cell_type": "code",
   "execution_count": 37,
   "metadata": {},
   "outputs": [
    {
     "name": "stdout",
     "output_type": "stream",
     "text": [
      "True True False False False\n",
      "False False True True False\n",
      "Number of Entries passing F1: 490\n",
      "Number of Entries passing F2: 0\n"
     ]
    },
    {
     "data": {
      "image/png": "[encoded data removed]",
      "text/plain": [
       "<matplotlib.figure.Figure at 0x7f38919257d0>"
      ]
     },
     "metadata": {},
     "output_type": "display_data"
    }
   ],
   "source": [
    "def inrange(mymin,mymax):\n",
    "    def testrange(x):\n",
    "        return x<mymax and x>=mymin\n",
    "    return testrange\n",
    "\n",
    "# Examples:\n",
    "F1=inrange(0,10)\n",
    "F2=inrange(10,20)\n",
    "\n",
    "print F1(0), F1(1), F1(10), F1(15), F1(20)\n",
    "print F2(0), F2(1), F2(10), F2(15), F2(20)\n",
    "\n",
    "print \"Number of Entries passing F1:\", len(where(Data,F1))\n",
    "print \"Number of Entries passing F2:\", len(where(Data,F2))\n",
    "\n",
    "# Solution:\n",
    "flatNum = []\n",
    "for y in range(minRange, maxRange):\n",
    "    for x in range(minRange, maxRange):\n",
    "        if (x > y): # to make sure that the 2nd arg passed to the inrage function is \"max\" while the first is \"min\"\n",
    "            checkFunc = inrange(y, x)\n",
    "            if abs(x-y) > 1: # to always have the range's length at least 2\n",
    "                flatNum.append(len(where(Data, checkFunc))/abs(x-y))\n",
    "\n",
    "plt.xlabel(\"Mean Value\")\n",
    "plt.ylabel(\"Frequency\")\n",
    "x = range(len(flatNum))\n",
    "y = flatNum\n",
    "plt.hist(y, bins=30)\n",
    "plt.show()"
   ]
  },
  {
   "cell_type": "markdown",
   "metadata": {},
   "source": [
    "### Exercise 1.5\n",
    "\n",
    "Repeat Exercise 1.5 using the built in python functions sum and map instead of your solution to 1.3. "
   ]
  },
  {
   "cell_type": "code",
   "execution_count": 38,
   "metadata": {},
   "outputs": [
    {
     "name": "stdout",
     "output_type": "stream",
     "text": [
      "True True False False False\n",
      "False False True True False\n",
      "Number of Entries passing F1: 490\n",
      "Number of Entries passing F2: 0\n"
     ]
    },
    {
     "data": {
      "image/png": "[encoded data removed]",
      "text/plain": [
       "<matplotlib.figure.Figure at 0x7f389195b710>"
      ]
     },
     "metadata": {},
     "output_type": "display_data"
    }
   ],
   "source": [
    "### BEGIN SOLUTION\n",
    "\n",
    "    # Fill in your solution here   \n",
    "def inrange(mymin,mymax):\n",
    "    def testrange(x):\n",
    "        return x<mymax and x>=mymin\n",
    "    return testrange\n",
    "\n",
    "# Examples:\n",
    "F1=inrange(0,10)\n",
    "F2=inrange(10,20)\n",
    "\n",
    "print F1(0), F1(1), F1(10), F1(15), F1(20)\n",
    "print F2(0), F2(1), F2(10), F2(15), F2(20)\n",
    "\n",
    "print \"Number of Entries passing F1:\", len(filter(F1, Data))\n",
    "print \"Number of Entries passing F2:\", len(filter(F2, Data))\n",
    "\n",
    "# Solution:\n",
    "flatNum = []\n",
    "for y in range(minRange, maxRange):\n",
    "    for x in range(minRange, maxRange):\n",
    "        if (x > y): # to make sure that the 2nd arg passed to the inrage function is \"max\" while the first is \"min\"\n",
    "            checkFunc = inrange(y, x)\n",
    "            if abs(x-y) > 1: # to always have the range's length at least 2\n",
    "                flatNum.append(len(filter(checkFunc, Data))/abs(x-y))\n",
    "\n",
    "plt.xlabel(\"Mean Value\")\n",
    "plt.ylabel(\"Frequency\")\n",
    "x = range(len(flatNum))\n",
    "y = flatNum\n",
    "plt.hist(y, bins=30)\n",
    "plt.show()\n",
    "    \n",
    "### END SOLUTION"
   ]
  },
  {
   "cell_type": "markdown",
   "metadata": {},
   "source": [
    "### Exercise 1.6\n",
    "\n",
    "Write a new function called GenerateDataFromFunction(N,mymin,mymax,myfunc), that instead of generating a flat distribution, generates a distribution with functional form coded in myfunc. Note that myfunc will always be > 0.  \n",
    "\n",
    "Use your function to generate 1000 numbers that are Gaussian distributed, using the Gaussian function below. Confirm the mean of the data is close to mean you specify when building the Gaussian. \n",
    "\n",
    "Hint: A simple, but slow, solution is to a draw random number test_x within the specified range and another number p between the min and max of the function (which you will have to determine). If p<=function(test_x), then place test_x on the output. If not, repeat the process, drawing two new numbers. Repeat until you have the specified number of generated numbers, N. For this problem, it's OK to determine the min and max by numerically sampling the function.  \n",
    "\n"
   ]
  },
  {
   "cell_type": "code",
   "execution_count": 39,
   "metadata": {
    "collapsed": true
   },
   "outputs": [],
   "source": [
    "def func_width(minFunc, maxFunc, func):\n",
    "    values = []\n",
    "    for i in range(minFunc, maxFunc):\n",
    "        values.append(func(i))\n",
    "    return min(values), max(values)\n",
    "\n",
    "def GenerateDataFromFunction(N,mymin,mymax,myfunc):\n",
    "    out = []\n",
    "    i = 0\n",
    "    ### BEGIN SOLUTION\n",
    "    while True:\n",
    "        test_x = ((random.random() * (mymax-mymin) + mymin))\n",
    "        minp,maxp=func_width(mymin, mymax, myfunc)\n",
    "        p = random.random() * (maxp - minp) + minp\n",
    "        if p <= myfunc(test_x):\n",
    "            out.append(test_x)\n",
    "            i += 1\n",
    "        if i==N:\n",
    "            break\n",
    "    \n",
    "    ### END SOLUTION\n",
    "    return out\n"
   ]
  },
  {
   "cell_type": "code",
   "execution_count": 41,
   "metadata": {},
   "outputs": [
    {
     "data": {
      "image/png": "[encoded data removed]",
      "text/plain": [
       "<matplotlib.figure.Figure at 0x7f3891b3ac90>"
      ]
     },
     "metadata": {},
     "output_type": "display_data"
    },
    {
     "data": {
      "image/png": "[encoded data removed]",
      "text/plain": [
       "<matplotlib.figure.Figure at 0x7f3891ec7350>"
      ]
     },
     "metadata": {},
     "output_type": "display_data"
    },
    {
     "data": {
      "image/png": "[encoded data removed]",
      "text/plain": [
       "<matplotlib.figure.Figure at 0x7f3891b7d290>"
      ]
     },
     "metadata": {},
     "output_type": "display_data"
    }
   ],
   "source": [
    "import math\n",
    "\n",
    "def gaussian(mean, sigma):\n",
    "    def f(x):\n",
    "        return math.exp(-((x-mean)**2)/(2*sigma**2))/math.sqrt(math.pi*sigma)\n",
    "    return f\n",
    "\n",
    "# Example Instantiation\n",
    "g1=gaussian(0,1)\n",
    "g2=gaussian(10,3)\n",
    "g3=gaussian(40,3)\n",
    "\n",
    "### BEGIN SOLUTION\n",
    "plt.title(\"Mean: \" + str(0))\n",
    "plt.hist(GenerateDataFromFunction(1000,-100,100,g1))\n",
    "plt.show()\n",
    "plt.title(\"Mean: \" + str(10))\n",
    "plt.hist(GenerateDataFromFunction(1000,0,100,g2))\n",
    "plt.show()\n",
    "plt.title(\"Mean: \" + str(40))\n",
    "plt.hist(GenerateDataFromFunction(1000,0,100,g3))\n",
    "plt.show()\n",
    "### END SOLUTION\n"
   ]
  },
  {
   "cell_type": "code",
   "execution_count": null,
   "metadata": {
    "collapsed": true
   },
   "outputs": [],
   "source": []
  }
 ],
 "metadata": {
  "kernelspec": {
   "display_name": "Python 2",
   "language": "python",
   "name": "python2"
  },
  "language_info": {
   "codemirror_mode": {
    "name": "ipython",
    "version": 2
   },
   "file_extension": ".py",
   "mimetype": "text/x-python",
   "name": "python",
   "nbconvert_exporter": "python",
   "pygments_lexer": "ipython2",
   "version": "2.7.12"
  }
 },
 "nbformat": 4,
 "nbformat_minor": 2
}
