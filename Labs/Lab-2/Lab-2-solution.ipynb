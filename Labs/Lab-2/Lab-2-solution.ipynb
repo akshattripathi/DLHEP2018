{
 "cells": [
  {
   "cell_type": "markdown",
   "metadata": {},
   "source": [
    "# Lab 2- Numpy\n",
    "\n",
    "Read through the following notebook to get an introduction to numpy: [Numpy Intro](jrjohansson-lectures/Lecture-2-Numpy.ipynb)"
   ]
  },
  {
   "cell_type": "markdown",
   "metadata": {},
   "source": [
    "## Exercise 2.1\n",
    "\n",
    "Let start with some basic reshape manipulations. Consider a classification task. We can imagine the training data X consisting of N examples each with M inputs, so the shape of X is (M,N). We usually express the output of the Neural Network, which for the training sample encodes the true class of each of the M examples in X, in a \"one-hot\" matrix of shape (N,C), where C is the number of classes and each row corresponds to the true class for the corresponding example in X. So for a given row Y[i], all elements are 0 except for the column corresponding to the true class.\n",
    "\n",
    "For example consider a classification task of separating between 4 classes. We'll call them A, B, C, and D.\n"
   ]
  },
  {
   "cell_type": "code",
   "execution_count": 1,
   "metadata": {},
   "outputs": [
    {
     "name": "stdout",
     "output_type": "stream",
     "text": [
      "Shape of Y: (4, 4)\n"
     ]
    }
   ],
   "source": [
    "import numpy as np\n",
    "\n",
    "Y=np.array( [ [0, 1, 0, 0], # Class B\n",
    "              [1, 0, 0, 0], # Class A\n",
    "              [0, 0, 1, 0], # Class C\n",
    "              [0, 0, 0, 1]  # Class D\n",
    "            ])\n",
    "\n",
    "print \"Shape of Y:\", Y.shape"
   ]
  },
  {
   "cell_type": "markdown",
   "metadata": {},
   "source": [
    "Lets imagine that we want to change to a 2 classes instead by combining classes A with B and C with D. Use np.reshape and np.sum to create a new vector Y1. Hint: change the shape of Y into (8,2), sum along the correct axes, and change shape to (4,2)."
   ]
  },
  {
   "cell_type": "code",
   "execution_count": 2,
   "metadata": {},
   "outputs": [
    {
     "name": "stdout",
     "output_type": "stream",
     "text": [
      "[[1 0]\n",
      " [1 0]\n",
      " [0 1]\n",
      " [0 1]]\n"
     ]
    }
   ],
   "source": [
    "Y1= Y.reshape(8,2) # Replace Y with operations on Y which result in the requested answer. \n",
    "Y1= np.sum(Y1, axis=1)\n",
    "print Y1.reshape(4, 2)"
   ]
  },
  {
   "cell_type": "markdown",
   "metadata": {},
   "source": [
    "## Exercise 2.2\n",
    "\n",
    "Oftentimes we find that neutral networks work best when their input is mostly between 0,1. Below, we create a random dataset that is normal distributed (mean of 4, sigma of 10). Shift the data so that the mean is 0.5 and 68% of the data lies between 0 and 1."
   ]
  },
  {
   "cell_type": "code",
   "execution_count": 3,
   "metadata": {},
   "outputs": [
    {
     "name": "stdout",
     "output_type": "stream",
     "text": [
      "3.94988270246\n",
      "-35.6310976231\n",
      "45.8975770856\n",
      "New mean: 0.5\n"
     ]
    },
    {
     "data": {
      "image/png": "[encoded data removed]",
      "text/plain": [
       "<matplotlib.figure.Figure at 0x7f94e00c5f50>"
      ]
     },
     "metadata": {},
     "output_type": "display_data"
    },
    {
     "data": {
      "image/png": "[encoded data removed]",
      "text/plain": [
       "<matplotlib.figure.Figure at 0x7f94eb347ed0>"
      ]
     },
     "metadata": {},
     "output_type": "display_data"
    }
   ],
   "source": [
    "import copy\n",
    "X=np.random.normal(4,10, 10000)\n",
    "\n",
    "print np.mean(X)\n",
    "print np.min(X)\n",
    "print np.max(X)\n",
    "\n",
    "X_new=copy.deepcopy(X)\n",
    "for j in range(len(X_new)):\n",
    "    X_new[j] = X_new[j]/(0.68 * np.max(X))\n",
    "mean = np.mean(X_new)\n",
    "for i in range(len(X_new)):\n",
    "    X_new[i] = (X_new[i] - mean + 0.5)\n",
    "\n",
    "print \"New mean: \" + str(np.mean(X_new))\n",
    "import matplotlib.pyplot as plt\n",
    "plt.hist(X)\n",
    "plt.show()\n",
    "plt.hist(X_new)\n",
    "plt.show()"
   ]
  },
  {
   "cell_type": "code",
   "execution_count": 4,
   "metadata": {
    "collapsed": true
   },
   "outputs": [],
   "source": [
    "X1=X_new # Replace X with your answer"
   ]
  },
  {
   "cell_type": "markdown",
   "metadata": {},
   "source": [
    "## Exercise 2.3\n",
    "\n",
    "Using np.random.random and np.random.normal to generate two datasets. Then use np.where to repeat exercise 1.4 showing that one creates a flat distribution and the other does not. "
   ]
  },
  {
   "cell_type": "code",
   "execution_count": 9,
   "metadata": {},
   "outputs": [
    {
     "name": "stdout",
     "output_type": "stream",
     "text": [
      "For the random distribution, over intervals of 0.2, the standard deviation is: 10.4307238483\n"
     ]
    },
    {
     "data": {
      "image/png": "[encoded data removed]",
      "text/plain": [
       "<matplotlib.figure.Figure at 0x7f94e014e950>"
      ]
     },
     "metadata": {},
     "output_type": "display_data"
    },
    {
     "name": "stdout",
     "output_type": "stream",
     "text": [
      "For the normal distribution, over intervals of 0.2, the standard deviation is: 255.343689955\n"
     ]
    },
    {
     "data": {
      "image/png": "[encoded data removed]",
      "text/plain": [
       "<matplotlib.figure.Figure at 0x7f9422d254d0>"
      ]
     },
     "metadata": {},
     "output_type": "display_data"
    }
   ],
   "source": [
    "# Your solution here\n",
    "X_random = np.random.random(1000)\n",
    "X_normal = np.random.normal(0.5, 0.1, 1000)\n",
    "\n",
    "#arrays to add number of data points in a given range\n",
    "data_rand = [] \n",
    "data_norm = []\n",
    "for x in np.arange(0.0, 1.0, 0.2):\n",
    "    y = x+0.2\n",
    "    data_rand.append(len(np.where((X_random <= y) & (X_random >= x))[0]))\n",
    "    data_norm.append(len(np.where((X_normal <= y) & (X_normal >= x))[0]))\n",
    "\n",
    "print \"For the random distribution, over intervals of 0.2, the standard deviation is: \" + str(np.std(np.array(data_rand)))\n",
    "plt.xlabel(\"Range\")\n",
    "plt.ylabel(\"Number of data points in the range\")\n",
    "plt.scatter(np.arange(0.0, 1.0, 0.2), data_rand)\n",
    "plt.show()\n",
    "print \"For the normal distribution, over intervals of 0.2, the standard deviation is: \" + str(np.std(np.array(data_norm)))\n",
    "plt.xlabel(\"Range\")\n",
    "plt.ylabel(\"Number of data points in the range\")\n",
    "plt.scatter(np.arange(0.0, 1.0, 0.2), data_norm)\n",
    "plt.show()"
   ]
  },
  {
   "cell_type": "markdown",
   "metadata": {},
   "source": [
    "## Exercise 2.4\n",
    "\n",
    "Now lets play with some real data. We will load a file of example Neutrino interactions in LArTPC detector. There are 2 read out planes in the detector with 240 wires each, sampled 4096 times. Shift the images in the same way as exercise 2.2."
   ]
  },
  {
   "cell_type": "code",
   "execution_count": 10,
   "metadata": {},
   "outputs": [
    {
     "name": "stdout",
     "output_type": "stream",
     "text": [
      "[u'Eng', u'Track_length', u'enu_truth', u'features', u'lep_mom_truth', u'mode_truth', u'pdg']\n",
      "(2500, 2, 240, 4096)\n"
     ]
    }
   ],
   "source": [
    "import h5py\n",
    "f=h5py.File(\"/data/LArIAT/h5_files/nue_CC_3-1469384613.h5\",\"r\")\n",
    "print f.keys()\n",
    "images=f[\"features\"]\n",
    "print images.shape"
   ]
  },
  {
   "cell_type": "code",
   "execution_count": null,
   "metadata": {},
   "outputs": [],
   "source": [
    "new_images = np.empty(np.shape(images))\n",
    "\n",
    "for image in range(0, np.shape(images)[0]):\n",
    "    for plane in range(0, np.shape(images)[1]):\n",
    "        for wire in range(0, np.shape(images)[2]):\n",
    "            samples = []\n",
    "            for sample in range(0, np.shape(images)[3]):\n",
    "                samples.append(images[image][plane][wire][sample])\n",
    "            samples_new = copy.deepcopy(samples)\n",
    "            for j in range(len(samples_new)):\n",
    "                samples_new[j] = samples_new[j]/(0.68 * np.max(samples))\n",
    "            mean = np.mean(samples_new)\n",
    "            for i in range(len(samples_new)):\n",
    "                samples_new[i] = (samples_new[i] - mean + 0.5)\n",
    "            new_images[image][plane][wire] = samples_new"
   ]
  },
  {
   "cell_type": "code",
   "execution_count": null,
   "metadata": {
    "collapsed": true
   },
   "outputs": [],
   "source": []
  }
 ],
 "metadata": {
  "kernelspec": {
   "display_name": "Python 2",
   "language": "python",
   "name": "python2"
  },
  "language_info": {
   "codemirror_mode": {
    "name": "ipython",
    "version": 2
   },
   "file_extension": ".py",
   "mimetype": "text/x-python",
   "name": "python",
   "nbconvert_exporter": "python",
   "pygments_lexer": "ipython2",
   "version": "2.7.12"
  }
 },
 "nbformat": 4,
 "nbformat_minor": 2
}
